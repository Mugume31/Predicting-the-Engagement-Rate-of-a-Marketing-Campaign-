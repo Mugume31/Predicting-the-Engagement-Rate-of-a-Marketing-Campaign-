{
 "cells": [
  {
   "cell_type": "code",
   "execution_count": 114,
   "id": "504a40f8",
   "metadata": {},
   "outputs": [],
   "source": [
    "import pandas as pd\n",
    "import matplotlib.pyplot as plt\n",
    "from sklearn.model_selection import train_test_split\n",
    "from sklearn.ensemble import RandomForestClassifier\n"
   ]
  },
  {
   "cell_type": "code",
   "execution_count": 96,
   "id": "83fb92d8",
   "metadata": {},
   "outputs": [],
   "source": [
    "df= pd.read_csv(\"/Users/mugzi/WA_Fn-UseC_-Marketing-Customer-Value-Analysis.csv\")"
   ]
  },
  {
   "cell_type": "code",
   "execution_count": 51,
   "id": "06546e3f",
   "metadata": {},
   "outputs": [
    {
     "data": {
      "text/html": [
       "<div>\n",
       "<style scoped>\n",
       "    .dataframe tbody tr th:only-of-type {\n",
       "        vertical-align: middle;\n",
       "    }\n",
       "\n",
       "    .dataframe tbody tr th {\n",
       "        vertical-align: top;\n",
       "    }\n",
       "\n",
       "    .dataframe thead th {\n",
       "        text-align: right;\n",
       "    }\n",
       "</style>\n",
       "<table border=\"1\" class=\"dataframe\">\n",
       "  <thead>\n",
       "    <tr style=\"text-align: right;\">\n",
       "      <th></th>\n",
       "      <th>Customer</th>\n",
       "      <th>State</th>\n",
       "      <th>Customer Lifetime Value</th>\n",
       "      <th>Response</th>\n",
       "      <th>Coverage</th>\n",
       "      <th>Education</th>\n",
       "      <th>Effective To Date</th>\n",
       "      <th>EmploymentStatus</th>\n",
       "      <th>Gender</th>\n",
       "      <th>Income</th>\n",
       "      <th>...</th>\n",
       "      <th>Months Since Policy Inception</th>\n",
       "      <th>Number of Open Complaints</th>\n",
       "      <th>Number of Policies</th>\n",
       "      <th>Policy Type</th>\n",
       "      <th>Policy</th>\n",
       "      <th>Renew Offer Type</th>\n",
       "      <th>Sales Channel</th>\n",
       "      <th>Total Claim Amount</th>\n",
       "      <th>Vehicle Class</th>\n",
       "      <th>Vehicle Size</th>\n",
       "    </tr>\n",
       "  </thead>\n",
       "  <tbody>\n",
       "    <tr>\n",
       "      <th>0</th>\n",
       "      <td>BU79786</td>\n",
       "      <td>Washington</td>\n",
       "      <td>2763.519279</td>\n",
       "      <td>No</td>\n",
       "      <td>Basic</td>\n",
       "      <td>Bachelor</td>\n",
       "      <td>2/24/11</td>\n",
       "      <td>Employed</td>\n",
       "      <td>F</td>\n",
       "      <td>56274</td>\n",
       "      <td>...</td>\n",
       "      <td>5</td>\n",
       "      <td>0</td>\n",
       "      <td>1</td>\n",
       "      <td>Corporate Auto</td>\n",
       "      <td>Corporate L3</td>\n",
       "      <td>Offer1</td>\n",
       "      <td>Agent</td>\n",
       "      <td>384.811147</td>\n",
       "      <td>Two-Door Car</td>\n",
       "      <td>Medsize</td>\n",
       "    </tr>\n",
       "    <tr>\n",
       "      <th>1</th>\n",
       "      <td>QZ44356</td>\n",
       "      <td>Arizona</td>\n",
       "      <td>6979.535903</td>\n",
       "      <td>No</td>\n",
       "      <td>Extended</td>\n",
       "      <td>Bachelor</td>\n",
       "      <td>1/31/11</td>\n",
       "      <td>Unemployed</td>\n",
       "      <td>F</td>\n",
       "      <td>0</td>\n",
       "      <td>...</td>\n",
       "      <td>42</td>\n",
       "      <td>0</td>\n",
       "      <td>8</td>\n",
       "      <td>Personal Auto</td>\n",
       "      <td>Personal L3</td>\n",
       "      <td>Offer3</td>\n",
       "      <td>Agent</td>\n",
       "      <td>1131.464935</td>\n",
       "      <td>Four-Door Car</td>\n",
       "      <td>Medsize</td>\n",
       "    </tr>\n",
       "    <tr>\n",
       "      <th>2</th>\n",
       "      <td>AI49188</td>\n",
       "      <td>Nevada</td>\n",
       "      <td>12887.431650</td>\n",
       "      <td>No</td>\n",
       "      <td>Premium</td>\n",
       "      <td>Bachelor</td>\n",
       "      <td>2/19/11</td>\n",
       "      <td>Employed</td>\n",
       "      <td>F</td>\n",
       "      <td>48767</td>\n",
       "      <td>...</td>\n",
       "      <td>38</td>\n",
       "      <td>0</td>\n",
       "      <td>2</td>\n",
       "      <td>Personal Auto</td>\n",
       "      <td>Personal L3</td>\n",
       "      <td>Offer1</td>\n",
       "      <td>Agent</td>\n",
       "      <td>566.472247</td>\n",
       "      <td>Two-Door Car</td>\n",
       "      <td>Medsize</td>\n",
       "    </tr>\n",
       "    <tr>\n",
       "      <th>3</th>\n",
       "      <td>WW63253</td>\n",
       "      <td>California</td>\n",
       "      <td>7645.861827</td>\n",
       "      <td>No</td>\n",
       "      <td>Basic</td>\n",
       "      <td>Bachelor</td>\n",
       "      <td>1/20/11</td>\n",
       "      <td>Unemployed</td>\n",
       "      <td>M</td>\n",
       "      <td>0</td>\n",
       "      <td>...</td>\n",
       "      <td>65</td>\n",
       "      <td>0</td>\n",
       "      <td>7</td>\n",
       "      <td>Corporate Auto</td>\n",
       "      <td>Corporate L2</td>\n",
       "      <td>Offer1</td>\n",
       "      <td>Call Center</td>\n",
       "      <td>529.881344</td>\n",
       "      <td>SUV</td>\n",
       "      <td>Medsize</td>\n",
       "    </tr>\n",
       "    <tr>\n",
       "      <th>4</th>\n",
       "      <td>HB64268</td>\n",
       "      <td>Washington</td>\n",
       "      <td>2813.692575</td>\n",
       "      <td>No</td>\n",
       "      <td>Basic</td>\n",
       "      <td>Bachelor</td>\n",
       "      <td>2/3/11</td>\n",
       "      <td>Employed</td>\n",
       "      <td>M</td>\n",
       "      <td>43836</td>\n",
       "      <td>...</td>\n",
       "      <td>44</td>\n",
       "      <td>0</td>\n",
       "      <td>1</td>\n",
       "      <td>Personal Auto</td>\n",
       "      <td>Personal L1</td>\n",
       "      <td>Offer1</td>\n",
       "      <td>Agent</td>\n",
       "      <td>138.130879</td>\n",
       "      <td>Four-Door Car</td>\n",
       "      <td>Medsize</td>\n",
       "    </tr>\n",
       "    <tr>\n",
       "      <th>...</th>\n",
       "      <td>...</td>\n",
       "      <td>...</td>\n",
       "      <td>...</td>\n",
       "      <td>...</td>\n",
       "      <td>...</td>\n",
       "      <td>...</td>\n",
       "      <td>...</td>\n",
       "      <td>...</td>\n",
       "      <td>...</td>\n",
       "      <td>...</td>\n",
       "      <td>...</td>\n",
       "      <td>...</td>\n",
       "      <td>...</td>\n",
       "      <td>...</td>\n",
       "      <td>...</td>\n",
       "      <td>...</td>\n",
       "      <td>...</td>\n",
       "      <td>...</td>\n",
       "      <td>...</td>\n",
       "      <td>...</td>\n",
       "      <td>...</td>\n",
       "    </tr>\n",
       "    <tr>\n",
       "      <th>9129</th>\n",
       "      <td>LA72316</td>\n",
       "      <td>California</td>\n",
       "      <td>23405.987980</td>\n",
       "      <td>No</td>\n",
       "      <td>Basic</td>\n",
       "      <td>Bachelor</td>\n",
       "      <td>2/10/11</td>\n",
       "      <td>Employed</td>\n",
       "      <td>M</td>\n",
       "      <td>71941</td>\n",
       "      <td>...</td>\n",
       "      <td>89</td>\n",
       "      <td>0</td>\n",
       "      <td>2</td>\n",
       "      <td>Personal Auto</td>\n",
       "      <td>Personal L1</td>\n",
       "      <td>Offer2</td>\n",
       "      <td>Web</td>\n",
       "      <td>198.234764</td>\n",
       "      <td>Four-Door Car</td>\n",
       "      <td>Medsize</td>\n",
       "    </tr>\n",
       "    <tr>\n",
       "      <th>9130</th>\n",
       "      <td>PK87824</td>\n",
       "      <td>California</td>\n",
       "      <td>3096.511217</td>\n",
       "      <td>Yes</td>\n",
       "      <td>Extended</td>\n",
       "      <td>College</td>\n",
       "      <td>2/12/11</td>\n",
       "      <td>Employed</td>\n",
       "      <td>F</td>\n",
       "      <td>21604</td>\n",
       "      <td>...</td>\n",
       "      <td>28</td>\n",
       "      <td>0</td>\n",
       "      <td>1</td>\n",
       "      <td>Corporate Auto</td>\n",
       "      <td>Corporate L3</td>\n",
       "      <td>Offer1</td>\n",
       "      <td>Branch</td>\n",
       "      <td>379.200000</td>\n",
       "      <td>Four-Door Car</td>\n",
       "      <td>Medsize</td>\n",
       "    </tr>\n",
       "    <tr>\n",
       "      <th>9131</th>\n",
       "      <td>TD14365</td>\n",
       "      <td>California</td>\n",
       "      <td>8163.890428</td>\n",
       "      <td>No</td>\n",
       "      <td>Extended</td>\n",
       "      <td>Bachelor</td>\n",
       "      <td>2/6/11</td>\n",
       "      <td>Unemployed</td>\n",
       "      <td>M</td>\n",
       "      <td>0</td>\n",
       "      <td>...</td>\n",
       "      <td>37</td>\n",
       "      <td>3</td>\n",
       "      <td>2</td>\n",
       "      <td>Corporate Auto</td>\n",
       "      <td>Corporate L2</td>\n",
       "      <td>Offer1</td>\n",
       "      <td>Branch</td>\n",
       "      <td>790.784983</td>\n",
       "      <td>Four-Door Car</td>\n",
       "      <td>Medsize</td>\n",
       "    </tr>\n",
       "    <tr>\n",
       "      <th>9132</th>\n",
       "      <td>UP19263</td>\n",
       "      <td>California</td>\n",
       "      <td>7524.442436</td>\n",
       "      <td>No</td>\n",
       "      <td>Extended</td>\n",
       "      <td>College</td>\n",
       "      <td>2/3/11</td>\n",
       "      <td>Employed</td>\n",
       "      <td>M</td>\n",
       "      <td>21941</td>\n",
       "      <td>...</td>\n",
       "      <td>3</td>\n",
       "      <td>0</td>\n",
       "      <td>3</td>\n",
       "      <td>Personal Auto</td>\n",
       "      <td>Personal L2</td>\n",
       "      <td>Offer3</td>\n",
       "      <td>Branch</td>\n",
       "      <td>691.200000</td>\n",
       "      <td>Four-Door Car</td>\n",
       "      <td>Large</td>\n",
       "    </tr>\n",
       "    <tr>\n",
       "      <th>9133</th>\n",
       "      <td>Y167826</td>\n",
       "      <td>California</td>\n",
       "      <td>2611.836866</td>\n",
       "      <td>No</td>\n",
       "      <td>Extended</td>\n",
       "      <td>College</td>\n",
       "      <td>2/14/11</td>\n",
       "      <td>Unemployed</td>\n",
       "      <td>M</td>\n",
       "      <td>0</td>\n",
       "      <td>...</td>\n",
       "      <td>90</td>\n",
       "      <td>0</td>\n",
       "      <td>1</td>\n",
       "      <td>Corporate Auto</td>\n",
       "      <td>Corporate L3</td>\n",
       "      <td>Offer4</td>\n",
       "      <td>Call Center</td>\n",
       "      <td>369.600000</td>\n",
       "      <td>Two-Door Car</td>\n",
       "      <td>Medsize</td>\n",
       "    </tr>\n",
       "  </tbody>\n",
       "</table>\n",
       "<p>9134 rows × 24 columns</p>\n",
       "</div>"
      ],
      "text/plain": [
       "     Customer       State  Customer Lifetime Value Response  Coverage  \\\n",
       "0     BU79786  Washington              2763.519279       No     Basic   \n",
       "1     QZ44356     Arizona              6979.535903       No  Extended   \n",
       "2     AI49188      Nevada             12887.431650       No   Premium   \n",
       "3     WW63253  California              7645.861827       No     Basic   \n",
       "4     HB64268  Washington              2813.692575       No     Basic   \n",
       "...       ...         ...                      ...      ...       ...   \n",
       "9129  LA72316  California             23405.987980       No     Basic   \n",
       "9130  PK87824  California              3096.511217      Yes  Extended   \n",
       "9131  TD14365  California              8163.890428       No  Extended   \n",
       "9132  UP19263  California              7524.442436       No  Extended   \n",
       "9133  Y167826  California              2611.836866       No  Extended   \n",
       "\n",
       "     Education Effective To Date EmploymentStatus Gender  Income  ...  \\\n",
       "0     Bachelor           2/24/11         Employed      F   56274  ...   \n",
       "1     Bachelor           1/31/11       Unemployed      F       0  ...   \n",
       "2     Bachelor           2/19/11         Employed      F   48767  ...   \n",
       "3     Bachelor           1/20/11       Unemployed      M       0  ...   \n",
       "4     Bachelor            2/3/11         Employed      M   43836  ...   \n",
       "...        ...               ...              ...    ...     ...  ...   \n",
       "9129  Bachelor           2/10/11         Employed      M   71941  ...   \n",
       "9130   College           2/12/11         Employed      F   21604  ...   \n",
       "9131  Bachelor            2/6/11       Unemployed      M       0  ...   \n",
       "9132   College            2/3/11         Employed      M   21941  ...   \n",
       "9133   College           2/14/11       Unemployed      M       0  ...   \n",
       "\n",
       "     Months Since Policy Inception Number of Open Complaints  \\\n",
       "0                                5                         0   \n",
       "1                               42                         0   \n",
       "2                               38                         0   \n",
       "3                               65                         0   \n",
       "4                               44                         0   \n",
       "...                            ...                       ...   \n",
       "9129                            89                         0   \n",
       "9130                            28                         0   \n",
       "9131                            37                         3   \n",
       "9132                             3                         0   \n",
       "9133                            90                         0   \n",
       "\n",
       "      Number of Policies     Policy Type        Policy  Renew Offer Type  \\\n",
       "0                      1  Corporate Auto  Corporate L3            Offer1   \n",
       "1                      8   Personal Auto   Personal L3            Offer3   \n",
       "2                      2   Personal Auto   Personal L3            Offer1   \n",
       "3                      7  Corporate Auto  Corporate L2            Offer1   \n",
       "4                      1   Personal Auto   Personal L1            Offer1   \n",
       "...                  ...             ...           ...               ...   \n",
       "9129                   2   Personal Auto   Personal L1            Offer2   \n",
       "9130                   1  Corporate Auto  Corporate L3            Offer1   \n",
       "9131                   2  Corporate Auto  Corporate L2            Offer1   \n",
       "9132                   3   Personal Auto   Personal L2            Offer3   \n",
       "9133                   1  Corporate Auto  Corporate L3            Offer4   \n",
       "\n",
       "      Sales Channel Total Claim Amount  Vehicle Class Vehicle Size  \n",
       "0             Agent         384.811147   Two-Door Car      Medsize  \n",
       "1             Agent        1131.464935  Four-Door Car      Medsize  \n",
       "2             Agent         566.472247   Two-Door Car      Medsize  \n",
       "3       Call Center         529.881344            SUV      Medsize  \n",
       "4             Agent         138.130879  Four-Door Car      Medsize  \n",
       "...             ...                ...            ...          ...  \n",
       "9129            Web         198.234764  Four-Door Car      Medsize  \n",
       "9130         Branch         379.200000  Four-Door Car      Medsize  \n",
       "9131         Branch         790.784983  Four-Door Car      Medsize  \n",
       "9132         Branch         691.200000  Four-Door Car        Large  \n",
       "9133    Call Center         369.600000   Two-Door Car      Medsize  \n",
       "\n",
       "[9134 rows x 24 columns]"
      ]
     },
     "execution_count": 51,
     "metadata": {},
     "output_type": "execute_result"
    }
   ],
   "source": [
    "df"
   ]
  },
  {
   "cell_type": "markdown",
   "id": "83e25f2b",
   "metadata": {},
   "source": [
    "Analytics on engagement rates by offer type , vehicle class , engagement by sales channel \n",
    "Analytics on egagement rates"
   ]
  },
  {
   "cell_type": "code",
   "execution_count": 7,
   "id": "f116c2e1",
   "metadata": {},
   "outputs": [
    {
     "data": {
      "text/plain": [
       "Customer                         0\n",
       "State                            0\n",
       "Customer Lifetime Value          0\n",
       "Response                         0\n",
       "Coverage                         0\n",
       "Education                        0\n",
       "Effective To Date                0\n",
       "EmploymentStatus                 0\n",
       "Gender                           0\n",
       "Income                           0\n",
       "Location Code                    0\n",
       "Marital Status                   0\n",
       "Monthly Premium Auto             0\n",
       "Months Since Last Claim          0\n",
       "Months Since Policy Inception    0\n",
       "Number of Open Complaints        0\n",
       "Number of Policies               0\n",
       "Policy Type                      0\n",
       "Policy                           0\n",
       "Renew Offer Type                 0\n",
       "Sales Channel                    0\n",
       "Total Claim Amount               0\n",
       "Vehicle Class                    0\n",
       "Vehicle Size                     0\n",
       "dtype: int64"
      ]
     },
     "execution_count": 7,
     "metadata": {},
     "output_type": "execute_result"
    }
   ],
   "source": [
    "df.isnull().sum()"
   ]
  },
  {
   "cell_type": "code",
   "execution_count": 11,
   "id": "3bfa3d4d",
   "metadata": {},
   "outputs": [],
   "source": [
    "#Engagment rate \n",
    "response_counts =df.groupby(\"Response\").count()[\"Customer\"]"
   ]
  },
  {
   "cell_type": "code",
   "execution_count": 15,
   "id": "68d68496",
   "metadata": {},
   "outputs": [
    {
     "data": {
      "text/plain": [
       "Text(0.5, 1.0, 'Customer Response Counts')"
      ]
     },
     "execution_count": 15,
     "metadata": {},
     "output_type": "execute_result"
    },
    {
     "data": {
      "image/png": "[encoded data removed]",
      "text/plain": [
       "<Figure size 432x288 with 1 Axes>"
      ]
     },
     "metadata": {
      "needs_background": "light"
     },
     "output_type": "display_data"
    }
   ],
   "source": [
    "response_counts.plot(kind='bar', color=['blue', 'orange'])\n",
    "plt.xlabel(\"Response\")\n",
    "plt.ylabel(\"Count\")\n",
    "plt.title(\"Customer Response Counts\")"
   ]
  },
  {
   "cell_type": "code",
   "execution_count": 16,
   "id": "834cce47",
   "metadata": {},
   "outputs": [],
   "source": [
    "#Getting the response rate \n",
    "relative_frequencies = df.groupby('Response').count()['Customer'] / df.shape[0]"
   ]
  },
  {
   "cell_type": "code",
   "execution_count": 18,
   "id": "7bf3719d",
   "metadata": {},
   "outputs": [
    {
     "data": {
      "image/png": "[encoded data removed]",
      "text/plain": [
       "<Figure size 432x288 with 1 Axes>"
      ]
     },
     "metadata": {},
     "output_type": "display_data"
    }
   ],
   "source": [
    "#Show response rates\n",
    "plt.pie(relative_frequencies, labels=relative_frequencies.index, autopct='%1.1f%%', startangle=140)\n",
    "plt.title(\"Relative Frequencies of Responses\")\n",
    "plt.axis('equal')  # Equal aspect ratio ensures that pie is drawn as a circle.\n",
    "plt.show()"
   ]
  },
  {
   "cell_type": "markdown",
   "id": "1d486705",
   "metadata": {},
   "source": [
    "The pie chart provides a visual representation of the data, revealing that approximately 14% of the clients actively participated in the marketing campaign. It's crucial to delve deeper into understanding the factors that contributed to the success of this group and identify the strategies that yielded positive outcomes for them."
   ]
  },
  {
   "cell_type": "code",
   "execution_count": 21,
   "id": "68f5b6fc",
   "metadata": {},
   "outputs": [],
   "source": [
    "total_counts_by_offer_type = df.groupby('Renew Offer Type').count()['Customer']"
   ]
  },
  {
   "cell_type": "code",
   "execution_count": 22,
   "id": "13bff1d6",
   "metadata": {},
   "outputs": [
    {
     "data": {
      "text/plain": [
       "Renew Offer Type\n",
       "Offer1    3752\n",
       "Offer2    2926\n",
       "Offer3    1432\n",
       "Offer4    1024\n",
       "Name: Customer, dtype: int64"
      ]
     },
     "execution_count": 22,
     "metadata": {},
     "output_type": "execute_result"
    }
   ],
   "source": [
    "total_counts_by_offer_type"
   ]
  },
  {
   "cell_type": "code",
   "execution_count": 24,
   "id": "ef53e4f8",
   "metadata": {},
   "outputs": [],
   "source": [
    "response_counts_by_offer_type = df.pivot_table(index='Renew Offer Type', columns='Response', values='Customer', aggfunc='count', fill_value=0)"
   ]
  },
  {
   "cell_type": "code",
   "execution_count": 30,
   "id": "a243a452",
   "metadata": {},
   "outputs": [],
   "source": [
    "proportions_by_offer_type = response_counts_by_offer_type.div(total_counts_by_offer_type, axis=0)"
   ]
  },
  {
   "cell_type": "code",
   "execution_count": 31,
   "id": "5d8f37ee",
   "metadata": {},
   "outputs": [
    {
     "data": {
      "text/html": [
       "<div>\n",
       "<style scoped>\n",
       "    .dataframe tbody tr th:only-of-type {\n",
       "        vertical-align: middle;\n",
       "    }\n",
       "\n",
       "    .dataframe tbody tr th {\n",
       "        vertical-align: top;\n",
       "    }\n",
       "\n",
       "    .dataframe thead th {\n",
       "        text-align: right;\n",
       "    }\n",
       "</style>\n",
       "<table border=\"1\" class=\"dataframe\">\n",
       "  <thead>\n",
       "    <tr style=\"text-align: right;\">\n",
       "      <th>Response</th>\n",
       "      <th>No</th>\n",
       "      <th>Yes</th>\n",
       "    </tr>\n",
       "    <tr>\n",
       "      <th>Renew Offer Type</th>\n",
       "      <th></th>\n",
       "      <th></th>\n",
       "    </tr>\n",
       "  </thead>\n",
       "  <tbody>\n",
       "    <tr>\n",
       "      <th>Offer1</th>\n",
       "      <td>0.841684</td>\n",
       "      <td>0.158316</td>\n",
       "    </tr>\n",
       "    <tr>\n",
       "      <th>Offer2</th>\n",
       "      <td>0.766234</td>\n",
       "      <td>0.233766</td>\n",
       "    </tr>\n",
       "    <tr>\n",
       "      <th>Offer3</th>\n",
       "      <td>0.979050</td>\n",
       "      <td>0.020950</td>\n",
       "    </tr>\n",
       "    <tr>\n",
       "      <th>Offer4</th>\n",
       "      <td>1.000000</td>\n",
       "      <td>0.000000</td>\n",
       "    </tr>\n",
       "  </tbody>\n",
       "</table>\n",
       "</div>"
      ],
      "text/plain": [
       "Response                No       Yes\n",
       "Renew Offer Type                    \n",
       "Offer1            0.841684  0.158316\n",
       "Offer2            0.766234  0.233766\n",
       "Offer3            0.979050  0.020950\n",
       "Offer4            1.000000  0.000000"
      ]
     },
     "execution_count": 31,
     "metadata": {},
     "output_type": "execute_result"
    }
   ],
   "source": [
    "proportions_by_offer_type"
   ]
  },
  {
   "cell_type": "code",
   "execution_count": 49,
   "id": "7f13fe4d",
   "metadata": {},
   "outputs": [
    {
     "data": {
      "image/png": "[encoded data removed]",
      "text/plain": [
       "<Figure size 432x288 with 1 Axes>"
      ]
     },
     "metadata": {
      "needs_background": "light"
     },
     "output_type": "display_data"
    }
   ],
   "source": [
    "proportions_by_offer_type.plot(kind='bar', stacked=False)\n",
    "plt.xlabel('Renew Offer Type')\n",
    "plt.ylabel('Proportion')\n",
    "plt.title('Proportion of Responses by Renew Offer Type')\n",
    "plt.legend(title='Response', bbox_to_anchor=(1, 1),loc='upper left', labels=['No', 'Yes'])\n",
    "\n",
    "plt.show()"
   ]
  },
  {
   "cell_type": "markdown",
   "id": "63ffd2a8",
   "metadata": {},
   "source": [
    "Looking at this data we can see we have high engagement rates for Offer 2 followed by Offer 1 and Offer 3"
   ]
  },
  {
   "cell_type": "code",
   "execution_count": 40,
   "id": "8bd53ed2",
   "metadata": {},
   "outputs": [],
   "source": [
    "offer_type_df = df.loc[df['Response'] == 'Yes'] \\\n",
    "    .groupby(['Renew Offer Type', 'Vehicle Class']) \\\n",
    "    .count()['Customer'] / df.groupby('Renew Offer Type').count()['Customer']\n"
   ]
  },
  {
   "cell_type": "code",
   "execution_count": 44,
   "id": "41742c66",
   "metadata": {},
   "outputs": [
    {
     "data": {
      "image/png": "[encoded data removed]",
      "text/plain": [
       "<Figure size 432x288 with 1 Axes>"
      ]
     },
     "metadata": {
      "needs_background": "light"
     },
     "output_type": "display_data"
    }
   ],
   "source": [
    "proportions_by_offer_and_class = offer_type_df.unstack()\n",
    "\n",
    "# Plotting\n",
    "proportions_by_offer_and_class.plot(kind='bar', stacked=False)\n",
    "plt.xlabel('Renew Offer Type')\n",
    "plt.ylabel('Proportion')\n",
    "plt.title('Proportion of \"Yes\" Responses by Renew Offer Type and Vehicle Class')\n",
    "plt.legend(title='Vehicle Class')\n",
    "\n",
    "plt.show()"
   ]
  },
  {
   "cell_type": "markdown",
   "id": "8003dba1",
   "metadata": {},
   "source": [
    "If we take a closer look, Four Door car owners take majorly offer 2 as compared to offer 1 and 3 for clients who own SUV. Two sports Door car owners take offer 2 as compared to offer 1. From a marketers POV for its best to use offer 2 across all the clients who drive Four-Door car to improve the conversion rates. The same applies for Two doo cars its best to use offer2."
   ]
  },
  {
   "cell_type": "code",
   "execution_count": 46,
   "id": "0690c8cb",
   "metadata": {},
   "outputs": [],
   "source": [
    "sales_channel_df = df.loc[    df['Response'] == 'Yes'].groupby(['Sales Channel']).count()['Customer']/df.groupby('Sales Channel').count()['Customer']\n"
   ]
  },
  {
   "cell_type": "code",
   "execution_count": 48,
   "id": "e9b10558",
   "metadata": {},
   "outputs": [
    {
     "data": {
      "image/png": "[encoded data removed]",
      "text/plain": [
       "<Figure size 432x288 with 1 Axes>"
      ]
     },
     "metadata": {
      "needs_background": "light"
     },
     "output_type": "display_data"
    }
   ],
   "source": [
    "sales_channel_df.plot(kind='bar', stacked=False)\n",
    "plt.xlabel('Sales channel')\n",
    "plt.ylabel('Proportion')\n",
    "plt.title('Sales by channel')\n",
    "#plt.legend(title='Sales channels')\n",
    "\n",
    "plt.show()"
   ]
  },
  {
   "cell_type": "markdown",
   "id": "d08c009d",
   "metadata": {},
   "source": [
    "From the graph the Agent has the most number of sales followed by Web,Branch and then Call Center."
   ]
  },
  {
   "cell_type": "markdown",
   "id": "553f58fa",
   "metadata": {},
   "source": [
    "Predicting Likelihood of marketing engagement "
   ]
  },
  {
   "cell_type": "code",
   "execution_count": 97,
   "id": "d4ef5d6b",
   "metadata": {},
   "outputs": [],
   "source": [
    "#Encode the repsonse variable\n",
    "df['Engaged'] = df['Response'].map({'Yes': 1, 'No': 0})\n",
    "df[\"Gender\"]= df[\"Gender\"].map({'F': 1, 'M': 0})\n"
   ]
  },
  {
   "cell_type": "code",
   "execution_count": 98,
   "id": "396aee78",
   "metadata": {},
   "outputs": [],
   "source": [
    "columns_to_encode = [\"Location Code\",\"State\",'Sales Channel',\"Renew Offer Type\", 'Vehicle Size', 'Vehicle Class', 'Policy', 'Policy Type','EmploymentStatus', 'Marital Status', 'Education', 'Coverage']\n",
    "\n",
    "df = pd.get_dummies(df, columns=columns_to_encode, drop_first=True)"
   ]
  },
  {
   "cell_type": "code",
   "execution_count": 123,
   "id": "d08561f6",
   "metadata": {},
   "outputs": [],
   "source": [
    "response = df[\"Engaged\"]\n",
    "cols_to_exclude = ['Response',\"Engaged\",\"Customer\",\"Effective To Date\"]\n",
    "features =df.drop(columns=cols_to_exclude, axis=1)"
   ]
  },
  {
   "cell_type": "code",
   "execution_count": 124,
   "id": "a70cdd16",
   "metadata": {},
   "outputs": [
    {
     "data": {
      "text/plain": [
       "Index(['Customer Lifetime Value', 'Gender', 'Income', 'Monthly Premium Auto',\n",
       "       'Months Since Last Claim', 'Months Since Policy Inception',\n",
       "       'Number of Open Complaints', 'Number of Policies', 'Total Claim Amount',\n",
       "       'Location Code_Suburban', 'Location Code_Urban', 'State_California',\n",
       "       'State_Nevada', 'State_Oregon', 'State_Washington',\n",
       "       'Sales Channel_Branch', 'Sales Channel_Call Center',\n",
       "       'Sales Channel_Web', 'Renew Offer Type_Offer2',\n",
       "       'Renew Offer Type_Offer3', 'Renew Offer Type_Offer4',\n",
       "       'Vehicle Size_Medsize', 'Vehicle Size_Small',\n",
       "       'Vehicle Class_Luxury Car', 'Vehicle Class_Luxury SUV',\n",
       "       'Vehicle Class_SUV', 'Vehicle Class_Sports Car',\n",
       "       'Vehicle Class_Two-Door Car', 'Policy_Corporate L2',\n",
       "       'Policy_Corporate L3', 'Policy_Personal L1', 'Policy_Personal L2',\n",
       "       'Policy_Personal L3', 'Policy_Special L1', 'Policy_Special L2',\n",
       "       'Policy_Special L3', 'Policy Type_Personal Auto',\n",
       "       'Policy Type_Special Auto', 'EmploymentStatus_Employed',\n",
       "       'EmploymentStatus_Medical Leave', 'EmploymentStatus_Retired',\n",
       "       'EmploymentStatus_Unemployed', 'Marital Status_Married',\n",
       "       'Marital Status_Single', 'Education_College', 'Education_Doctor',\n",
       "       'Education_High School or Below', 'Education_Master',\n",
       "       'Coverage_Extended', 'Coverage_Premium'],\n",
       "      dtype='object')"
      ]
     },
     "execution_count": 124,
     "metadata": {},
     "output_type": "execute_result"
    }
   ],
   "source": [
    "features.columns"
   ]
  },
  {
   "cell_type": "code",
   "execution_count": 125,
   "id": "b10d57d4",
   "metadata": {},
   "outputs": [],
   "source": [
    "x_train, x_test, y_train, y_test = train_test_split(features, response, test_size=0.3)\n",
    "\n"
   ]
  },
  {
   "cell_type": "code",
   "execution_count": 126,
   "id": "f4af63e4",
   "metadata": {},
   "outputs": [
    {
     "data": {
      "text/html": [
       "<style>#sk-container-id-1 {color: black;background-color: white;}#sk-container-id-1 pre{padding: 0;}#sk-container-id-1 div.sk-toggleable {background-color: white;}#sk-container-id-1 label.sk-toggleable__label {cursor: pointer;display: block;width: 100%;margin-bottom: 0;padding: 0.3em;box-sizing: border-box;text-align: center;}#sk-container-id-1 label.sk-toggleable__label-arrow:before {content: \"▸\";float: left;margin-right: 0.25em;color: #696969;}#sk-container-id-1 label.sk-toggleable__label-arrow:hover:before {color: black;}#sk-container-id-1 div.sk-estimator:hover label.sk-toggleable__label-arrow:before {color: black;}#sk-container-id-1 div.sk-toggleable__content {max-height: 0;max-width: 0;overflow: hidden;text-align: left;background-color: #f0f8ff;}#sk-container-id-1 div.sk-toggleable__content pre {margin: 0.2em;color: black;border-radius: 0.25em;background-color: #f0f8ff;}#sk-container-id-1 input.sk-toggleable__control:checked~div.sk-toggleable__content {max-height: 200px;max-width: 100%;overflow: auto;}#sk-container-id-1 input.sk-toggleable__control:checked~label.sk-toggleable__label-arrow:before {content: \"▾\";}#sk-container-id-1 div.sk-estimator input.sk-toggleable__control:checked~label.sk-toggleable__label {background-color: #d4ebff;}#sk-container-id-1 div.sk-label input.sk-toggleable__control:checked~label.sk-toggleable__label {background-color: #d4ebff;}#sk-container-id-1 input.sk-hidden--visually {border: 0;clip: rect(1px 1px 1px 1px);clip: rect(1px, 1px, 1px, 1px);height: 1px;margin: -1px;overflow: hidden;padding: 0;position: absolute;width: 1px;}#sk-container-id-1 div.sk-estimator {font-family: monospace;background-color: #f0f8ff;border: 1px dotted black;border-radius: 0.25em;box-sizing: border-box;margin-bottom: 0.5em;}#sk-container-id-1 div.sk-estimator:hover {background-color: #d4ebff;}#sk-container-id-1 div.sk-parallel-item::after {content: \"\";width: 100%;border-bottom: 1px solid gray;flex-grow: 1;}#sk-container-id-1 div.sk-label:hover label.sk-toggleable__label {background-color: #d4ebff;}#sk-container-id-1 div.sk-serial::before {content: \"\";position: absolute;border-left: 1px solid gray;box-sizing: border-box;top: 0;bottom: 0;left: 50%;z-index: 0;}#sk-container-id-1 div.sk-serial {display: flex;flex-direction: column;align-items: center;background-color: white;padding-right: 0.2em;padding-left: 0.2em;position: relative;}#sk-container-id-1 div.sk-item {position: relative;z-index: 1;}#sk-container-id-1 div.sk-parallel {display: flex;align-items: stretch;justify-content: center;background-color: white;position: relative;}#sk-container-id-1 div.sk-item::before, #sk-container-id-1 div.sk-parallel-item::before {content: \"\";position: absolute;border-left: 1px solid gray;box-sizing: border-box;top: 0;bottom: 0;left: 50%;z-index: -1;}#sk-container-id-1 div.sk-parallel-item {display: flex;flex-direction: column;z-index: 1;position: relative;background-color: white;}#sk-container-id-1 div.sk-parallel-item:first-child::after {align-self: flex-end;width: 50%;}#sk-container-id-1 div.sk-parallel-item:last-child::after {align-self: flex-start;width: 50%;}#sk-container-id-1 div.sk-parallel-item:only-child::after {width: 0;}#sk-container-id-1 div.sk-dashed-wrapped {border: 1px dashed gray;margin: 0 0.4em 0.5em 0.4em;box-sizing: border-box;padding-bottom: 0.4em;background-color: white;}#sk-container-id-1 div.sk-label label {font-family: monospace;font-weight: bold;display: inline-block;line-height: 1.2em;}#sk-container-id-1 div.sk-label-container {text-align: center;}#sk-container-id-1 div.sk-container {/* jupyter's `normalize.less` sets `[hidden] { display: none; }` but bootstrap.min.css set `[hidden] { display: none !important; }` so we also need the `!important` here to be able to override the default hidden behavior on the sphinx rendered scikit-learn.org. See: https://github.com/scikit-learn/scikit-learn/issues/21755 */display: inline-block !important;position: relative;}#sk-container-id-1 div.sk-text-repr-fallback {display: none;}</style><div id=\"sk-container-id-1\" class=\"sk-top-container\"><div class=\"sk-text-repr-fallback\"><pre>RandomForestClassifier(max_depth=5, n_estimators=200)</pre><b>In a Jupyter environment, please rerun this cell to show the HTML representation or trust the notebook. <br />On GitHub, the HTML representation is unable to render, please try loading this page with nbviewer.org.</b></div><div class=\"sk-container\" hidden><div class=\"sk-item\"><div class=\"sk-estimator sk-toggleable\"><input class=\"sk-toggleable__control sk-hidden--visually\" id=\"sk-estimator-id-1\" type=\"checkbox\" checked><label for=\"sk-estimator-id-1\" class=\"sk-toggleable__label sk-toggleable__label-arrow\">RandomForestClassifier</label><div class=\"sk-toggleable__content\"><pre>RandomForestClassifier(max_depth=5, n_estimators=200)</pre></div></div></div></div></div>"
      ],
      "text/plain": [
       "RandomForestClassifier(max_depth=5, n_estimators=200)"
      ]
     },
     "execution_count": 126,
     "metadata": {},
     "output_type": "execute_result"
    }
   ],
   "source": [
    "rf_model = RandomForestClassifier(n_estimators=200, max_depth=5)\n",
    "rf_model.fit(X=x_train, y=y_train)"
   ]
  },
  {
   "cell_type": "code",
   "execution_count": 130,
   "id": "d4e8aa38",
   "metadata": {},
   "outputs": [
    {
     "name": "stdout",
     "output_type": "stream",
     "text": [
      "                           Feature  Importance\n",
      "40        EmploymentStatus_Retired    0.238917\n",
      "18         Renew Offer Type_Offer2    0.097686\n",
      "19         Renew Offer Type_Offer3    0.087508\n",
      "20         Renew Offer Type_Offer4    0.078703\n",
      "2                           Income    0.069523\n",
      "8               Total Claim Amount    0.046633\n",
      "9           Location Code_Suburban    0.045105\n",
      "0          Customer Lifetime Value    0.043444\n",
      "5    Months Since Policy Inception    0.033067\n",
      "3             Monthly Premium Auto    0.032480\n",
      "41     EmploymentStatus_Unemployed    0.031383\n",
      "4          Months Since Last Claim    0.023508\n",
      "42          Marital Status_Married    0.018183\n",
      "43           Marital Status_Single    0.017412\n",
      "38       EmploymentStatus_Employed    0.016913\n",
      "7               Number of Policies    0.013630\n",
      "47                Education_Master    0.010124\n",
      "6        Number of Open Complaints    0.010101\n",
      "10             Location Code_Urban    0.010062\n",
      "15            Sales Channel_Branch    0.008058\n",
      "22              Vehicle Size_Small    0.008029\n",
      "16       Sales Channel_Call Center    0.007971\n",
      "26        Vehicle Class_Sports Car    0.005147\n",
      "21            Vehicle Size_Medsize    0.004158\n",
      "44               Education_College    0.003680\n",
      "46  Education_High School or Below    0.003435\n",
      "48               Coverage_Extended    0.003355\n",
      "17               Sales Channel_Web    0.003146\n",
      "45                Education_Doctor    0.003093\n",
      "25               Vehicle Class_SUV    0.002614\n",
      "35               Policy_Special L3    0.002366\n",
      "27      Vehicle Class_Two-Door Car    0.002330\n",
      "39  EmploymentStatus_Medical Leave    0.002291\n",
      "1                           Gender    0.002129\n",
      "30              Policy_Personal L1    0.001744\n",
      "49                Coverage_Premium    0.001463\n",
      "12                    State_Nevada    0.001261\n",
      "33               Policy_Special L1    0.001088\n",
      "36       Policy Type_Personal Auto    0.001023\n",
      "23        Vehicle Class_Luxury Car    0.000937\n",
      "37        Policy Type_Special Auto    0.000889\n",
      "29             Policy_Corporate L3    0.000878\n",
      "13                    State_Oregon    0.000834\n",
      "24        Vehicle Class_Luxury SUV    0.000709\n",
      "31              Policy_Personal L2    0.000606\n",
      "11                State_California    0.000589\n",
      "14                State_Washington    0.000534\n",
      "28             Policy_Corporate L2    0.000533\n",
      "32              Policy_Personal L3    0.000441\n",
      "34               Policy_Special L2    0.000286\n"
     ]
    }
   ],
   "source": [
    "feature_names = features.columns\n",
    "feature_importances=rf_model.feature_importances_\n",
    "feature_importance_df = pd.DataFrame({'Feature': feature_names, 'Importance': feature_importances})\n",
    "feature_importance_df = feature_importance_df.sort_values(by='Importance', ascending=False)\n",
    "print(feature_importance_df)"
   ]
  },
  {
   "cell_type": "code",
   "execution_count": 131,
   "id": "b9ea5ba8",
   "metadata": {},
   "outputs": [],
   "source": [
    "y_train_predicted = rf_model.predict(x_train)\n",
    "y_test_predicted = rf_model.predict(x_test)"
   ]
  },
  {
   "cell_type": "code",
   "execution_count": 143,
   "id": "903051c9",
   "metadata": {},
   "outputs": [
    {
     "data": {
      "text/plain": [
       "2913    0\n",
       "6439    0\n",
       "8476    1\n",
       "4150    0\n",
       "5189    0\n",
       "       ..\n",
       "6664    0\n",
       "1410    0\n",
       "8147    0\n",
       "3667    0\n",
       "5854    0\n",
       "Name: Engaged, Length: 2741, dtype: int64"
      ]
     },
     "execution_count": 143,
     "metadata": {},
     "output_type": "execute_result"
    }
   ],
   "source": [
    "y_test"
   ]
  },
  {
   "cell_type": "code",
   "execution_count": 139,
   "id": "8c654546",
   "metadata": {},
   "outputs": [],
   "source": [
    "all_indices = y_test.index"
   ]
  },
  {
   "cell_type": "code",
   "execution_count": 140,
   "id": "7d820b2a",
   "metadata": {},
   "outputs": [
    {
     "name": "stdout",
     "output_type": "stream",
     "text": [
      "Int64Index([2913, 6439, 8476, 4150, 5189, 3310, 3397, 3156, 2634, 1671,\n",
      "            ...\n",
      "            5358, 5745, 4126, 8175,   39, 6664, 1410, 8147, 3667, 5854],\n",
      "           dtype='int64', length=2741)\n"
     ]
    }
   ],
   "source": [
    "print(all_indices)"
   ]
  },
  {
   "cell_type": "code",
   "execution_count": 142,
   "id": "775ecca0",
   "metadata": {},
   "outputs": [
    {
     "name": "stdout",
     "output_type": "stream",
     "text": [
      "2913    0\n",
      "6439    0\n",
      "8476    1\n",
      "4150    0\n",
      "5189    0\n",
      "       ..\n",
      "6664    0\n",
      "1410    0\n",
      "8147    0\n",
      "3667    0\n",
      "5854    0\n",
      "Name: Engaged, Length: 2741, dtype: int64\n"
     ]
    }
   ],
   "source": [
    "corresponding_values = response.loc[y_test.index]\n",
    "\n",
    "print(corresponding_values)"
   ]
  },
  {
   "cell_type": "code",
   "execution_count": 144,
   "id": "e0511c05",
   "metadata": {},
   "outputs": [
    {
     "name": "stdout",
     "output_type": "stream",
     "text": [
      "      y_test  corresponding_values  match\n",
      "2913       0                     0   True\n",
      "6439       0                     0   True\n",
      "8476       1                     1   True\n",
      "4150       0                     0   True\n",
      "5189       0                     0   True\n",
      "...      ...                   ...    ...\n",
      "6664       0                     0   True\n",
      "1410       0                     0   True\n",
      "8147       0                     0   True\n",
      "3667       0                     0   True\n",
      "5854       0                     0   True\n",
      "\n",
      "[2741 rows x 3 columns]\n"
     ]
    }
   ],
   "source": [
    "comparison_df = pd.DataFrame({'y_test': y_test, 'corresponding_values': corresponding_values})\n",
    "\n",
    "# Add a column indicating whether the values match\n",
    "comparison_df['match'] = comparison_df['y_test'] == comparison_df['corresponding_values']\n",
    "\n",
    "print(comparison_df)"
   ]
  },
  {
   "cell_type": "code",
   "execution_count": 149,
   "id": "09092077",
   "metadata": {},
   "outputs": [
    {
     "data": {
      "text/plain": [
       "0    2367\n",
       "1     374\n",
       "Name: corresponding_values, dtype: int64"
      ]
     },
     "execution_count": 149,
     "metadata": {},
     "output_type": "execute_result"
    }
   ],
   "source": [
    "comparison_df[\"corresponding_values\"].value_counts()"
   ]
  },
  {
   "cell_type": "markdown",
   "id": "04efaa60",
   "metadata": {},
   "source": [
    "So from this data approximately 374 people shall say yes to the Market Campaign. Therefore as marketeer you need to focus on these clients "
   ]
  },
  {
   "cell_type": "code",
   "execution_count": null,
   "id": "27b0b8c1",
   "metadata": {},
   "outputs": [],
   "source": []
  }
 ],
 "metadata": {
  "kernelspec": {
   "display_name": "Python 3 (ipykernel)",
   "language": "python",
   "name": "python3"
  },
  "language_info": {
   "codemirror_mode": {
    "name": "ipython",
    "version": 3
   },
   "file_extension": ".py",
   "mimetype": "text/x-python",
   "name": "python",
   "nbconvert_exporter": "python",
   "pygments_lexer": "ipython3",
   "version": "3.10.0"
  }
 },
 "nbformat": 4,
 "nbformat_minor": 5
}
